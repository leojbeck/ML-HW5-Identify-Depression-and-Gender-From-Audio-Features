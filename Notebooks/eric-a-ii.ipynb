{
 "cells": [
  {
   "cell_type": "markdown",
   "metadata": {},
   "source": [
    "# aii) Gender Classification"
   ]
  },
  {
   "cell_type": "code",
   "execution_count": 37,
   "metadata": {},
   "outputs": [],
   "source": [
    "import pandas as pd\n",
    "\n",
    "df = pd.read_csv('../Datasets/ADS/final_training_data.csv', index_col=0)\n"
   ]
  },
  {
   "cell_type": "code",
   "execution_count": 38,
   "metadata": {},
   "outputs": [
    {
     "data": {
      "text/html": [
       "<div>\n",
       "<style scoped>\n",
       "    .dataframe tbody tr th:only-of-type {\n",
       "        vertical-align: middle;\n",
       "    }\n",
       "\n",
       "    .dataframe tbody tr th {\n",
       "        vertical-align: top;\n",
       "    }\n",
       "\n",
       "    .dataframe thead th {\n",
       "        text-align: right;\n",
       "    }\n",
       "</style>\n",
       "<table border=\"1\" class=\"dataframe\">\n",
       "  <thead>\n",
       "    <tr style=\"text-align: right;\">\n",
       "      <th></th>\n",
       "      <th>F0semitoneFrom27.5Hz_sma3nz_amean</th>\n",
       "      <th>F0semitoneFrom27.5Hz_sma3nz_stddevNorm</th>\n",
       "      <th>F0semitoneFrom27.5Hz_sma3nz_percentile20.0</th>\n",
       "      <th>F0semitoneFrom27.5Hz_sma3nz_percentile50.0</th>\n",
       "      <th>F0semitoneFrom27.5Hz_sma3nz_percentile80.0</th>\n",
       "      <th>F0semitoneFrom27.5Hz_sma3nz_pctlrange0-2</th>\n",
       "      <th>F0semitoneFrom27.5Hz_sma3nz_meanRisingSlope</th>\n",
       "      <th>F0semitoneFrom27.5Hz_sma3nz_stddevRisingSlope</th>\n",
       "      <th>F0semitoneFrom27.5Hz_sma3nz_meanFallingSlope</th>\n",
       "      <th>F0semitoneFrom27.5Hz_sma3nz_stddevFallingSlope</th>\n",
       "      <th>...</th>\n",
       "      <th>loudnessPeaksPerSec</th>\n",
       "      <th>VoicedSegmentsPerSec</th>\n",
       "      <th>MeanVoicedSegmentLengthSec</th>\n",
       "      <th>StddevVoicedSegmentLengthSec</th>\n",
       "      <th>MeanUnvoicedSegmentLength</th>\n",
       "      <th>StddevUnvoicedSegmentLength</th>\n",
       "      <th>equivalentSoundLevel_dBp</th>\n",
       "      <th>participant_id</th>\n",
       "      <th>Depression</th>\n",
       "      <th>Gender</th>\n",
       "    </tr>\n",
       "  </thead>\n",
       "  <tbody>\n",
       "    <tr>\n",
       "      <th>0</th>\n",
       "      <td>33.883310</td>\n",
       "      <td>0.188470</td>\n",
       "      <td>31.197649</td>\n",
       "      <td>31.198807</td>\n",
       "      <td>31.237043</td>\n",
       "      <td>0.039394</td>\n",
       "      <td>39.990345</td>\n",
       "      <td>28.040092</td>\n",
       "      <td>100.798780</td>\n",
       "      <td>0.000000</td>\n",
       "      <td>...</td>\n",
       "      <td>1.960784</td>\n",
       "      <td>2.061856</td>\n",
       "      <td>0.240000</td>\n",
       "      <td>0.010000</td>\n",
       "      <td>0.225</td>\n",
       "      <td>0.005000</td>\n",
       "      <td>-53.529380</td>\n",
       "      <td>448</td>\n",
       "      <td>1</td>\n",
       "      <td>1</td>\n",
       "    </tr>\n",
       "    <tr>\n",
       "      <th>1</th>\n",
       "      <td>23.442284</td>\n",
       "      <td>0.015231</td>\n",
       "      <td>23.083265</td>\n",
       "      <td>23.519197</td>\n",
       "      <td>23.799660</td>\n",
       "      <td>0.716394</td>\n",
       "      <td>0.000000</td>\n",
       "      <td>0.000000</td>\n",
       "      <td>-0.109734</td>\n",
       "      <td>0.000000</td>\n",
       "      <td>...</td>\n",
       "      <td>3.703704</td>\n",
       "      <td>2.040816</td>\n",
       "      <td>0.080000</td>\n",
       "      <td>0.000000</td>\n",
       "      <td>0.380</td>\n",
       "      <td>0.000000</td>\n",
       "      <td>-47.326970</td>\n",
       "      <td>448</td>\n",
       "      <td>1</td>\n",
       "      <td>1</td>\n",
       "    </tr>\n",
       "    <tr>\n",
       "      <th>2</th>\n",
       "      <td>26.658195</td>\n",
       "      <td>0.095594</td>\n",
       "      <td>24.275490</td>\n",
       "      <td>27.404346</td>\n",
       "      <td>29.017082</td>\n",
       "      <td>4.741592</td>\n",
       "      <td>61.829530</td>\n",
       "      <td>67.673560</td>\n",
       "      <td>20.461290</td>\n",
       "      <td>11.705440</td>\n",
       "      <td>...</td>\n",
       "      <td>3.131991</td>\n",
       "      <td>2.036199</td>\n",
       "      <td>0.344444</td>\n",
       "      <td>0.235472</td>\n",
       "      <td>0.115</td>\n",
       "      <td>0.087321</td>\n",
       "      <td>-41.121784</td>\n",
       "      <td>448</td>\n",
       "      <td>1</td>\n",
       "      <td>1</td>\n",
       "    </tr>\n",
       "    <tr>\n",
       "      <th>3</th>\n",
       "      <td>0.000000</td>\n",
       "      <td>0.000000</td>\n",
       "      <td>0.000000</td>\n",
       "      <td>0.000000</td>\n",
       "      <td>0.000000</td>\n",
       "      <td>0.000000</td>\n",
       "      <td>0.000000</td>\n",
       "      <td>0.000000</td>\n",
       "      <td>0.000000</td>\n",
       "      <td>0.000000</td>\n",
       "      <td>...</td>\n",
       "      <td>3.333334</td>\n",
       "      <td>0.000000</td>\n",
       "      <td>0.000000</td>\n",
       "      <td>0.000000</td>\n",
       "      <td>0.240</td>\n",
       "      <td>0.000000</td>\n",
       "      <td>-56.265000</td>\n",
       "      <td>448</td>\n",
       "      <td>1</td>\n",
       "      <td>1</td>\n",
       "    </tr>\n",
       "    <tr>\n",
       "      <th>4</th>\n",
       "      <td>34.614662</td>\n",
       "      <td>0.005980</td>\n",
       "      <td>34.433628</td>\n",
       "      <td>34.559757</td>\n",
       "      <td>34.764160</td>\n",
       "      <td>0.330532</td>\n",
       "      <td>8.279264</td>\n",
       "      <td>5.828207</td>\n",
       "      <td>8.208370</td>\n",
       "      <td>6.596444</td>\n",
       "      <td>...</td>\n",
       "      <td>5.084746</td>\n",
       "      <td>1.886793</td>\n",
       "      <td>0.420000</td>\n",
       "      <td>0.000000</td>\n",
       "      <td>0.040</td>\n",
       "      <td>0.020000</td>\n",
       "      <td>-33.531155</td>\n",
       "      <td>448</td>\n",
       "      <td>1</td>\n",
       "      <td>1</td>\n",
       "    </tr>\n",
       "  </tbody>\n",
       "</table>\n",
       "<p>5 rows × 91 columns</p>\n",
       "</div>"
      ],
      "text/plain": [
       "   F0semitoneFrom27.5Hz_sma3nz_amean  F0semitoneFrom27.5Hz_sma3nz_stddevNorm  \\\n",
       "0                          33.883310                                0.188470   \n",
       "1                          23.442284                                0.015231   \n",
       "2                          26.658195                                0.095594   \n",
       "3                           0.000000                                0.000000   \n",
       "4                          34.614662                                0.005980   \n",
       "\n",
       "   F0semitoneFrom27.5Hz_sma3nz_percentile20.0  \\\n",
       "0                                   31.197649   \n",
       "1                                   23.083265   \n",
       "2                                   24.275490   \n",
       "3                                    0.000000   \n",
       "4                                   34.433628   \n",
       "\n",
       "   F0semitoneFrom27.5Hz_sma3nz_percentile50.0  \\\n",
       "0                                   31.198807   \n",
       "1                                   23.519197   \n",
       "2                                   27.404346   \n",
       "3                                    0.000000   \n",
       "4                                   34.559757   \n",
       "\n",
       "   F0semitoneFrom27.5Hz_sma3nz_percentile80.0  \\\n",
       "0                                   31.237043   \n",
       "1                                   23.799660   \n",
       "2                                   29.017082   \n",
       "3                                    0.000000   \n",
       "4                                   34.764160   \n",
       "\n",
       "   F0semitoneFrom27.5Hz_sma3nz_pctlrange0-2  \\\n",
       "0                                  0.039394   \n",
       "1                                  0.716394   \n",
       "2                                  4.741592   \n",
       "3                                  0.000000   \n",
       "4                                  0.330532   \n",
       "\n",
       "   F0semitoneFrom27.5Hz_sma3nz_meanRisingSlope  \\\n",
       "0                                    39.990345   \n",
       "1                                     0.000000   \n",
       "2                                    61.829530   \n",
       "3                                     0.000000   \n",
       "4                                     8.279264   \n",
       "\n",
       "   F0semitoneFrom27.5Hz_sma3nz_stddevRisingSlope  \\\n",
       "0                                      28.040092   \n",
       "1                                       0.000000   \n",
       "2                                      67.673560   \n",
       "3                                       0.000000   \n",
       "4                                       5.828207   \n",
       "\n",
       "   F0semitoneFrom27.5Hz_sma3nz_meanFallingSlope  \\\n",
       "0                                    100.798780   \n",
       "1                                     -0.109734   \n",
       "2                                     20.461290   \n",
       "3                                      0.000000   \n",
       "4                                      8.208370   \n",
       "\n",
       "   F0semitoneFrom27.5Hz_sma3nz_stddevFallingSlope  ...  loudnessPeaksPerSec  \\\n",
       "0                                        0.000000  ...             1.960784   \n",
       "1                                        0.000000  ...             3.703704   \n",
       "2                                       11.705440  ...             3.131991   \n",
       "3                                        0.000000  ...             3.333334   \n",
       "4                                        6.596444  ...             5.084746   \n",
       "\n",
       "   VoicedSegmentsPerSec  MeanVoicedSegmentLengthSec  \\\n",
       "0              2.061856                    0.240000   \n",
       "1              2.040816                    0.080000   \n",
       "2              2.036199                    0.344444   \n",
       "3              0.000000                    0.000000   \n",
       "4              1.886793                    0.420000   \n",
       "\n",
       "   StddevVoicedSegmentLengthSec  MeanUnvoicedSegmentLength  \\\n",
       "0                      0.010000                      0.225   \n",
       "1                      0.000000                      0.380   \n",
       "2                      0.235472                      0.115   \n",
       "3                      0.000000                      0.240   \n",
       "4                      0.000000                      0.040   \n",
       "\n",
       "   StddevUnvoicedSegmentLength  equivalentSoundLevel_dBp  participant_id  \\\n",
       "0                     0.005000                -53.529380             448   \n",
       "1                     0.000000                -47.326970             448   \n",
       "2                     0.087321                -41.121784             448   \n",
       "3                     0.000000                -56.265000             448   \n",
       "4                     0.020000                -33.531155             448   \n",
       "\n",
       "   Depression  Gender  \n",
       "0           1       1  \n",
       "1           1       1  \n",
       "2           1       1  \n",
       "3           1       1  \n",
       "4           1       1  \n",
       "\n",
       "[5 rows x 91 columns]"
      ]
     },
     "execution_count": 38,
     "metadata": {},
     "output_type": "execute_result"
    }
   ],
   "source": [
    "df.head()"
   ]
  },
  {
   "cell_type": "code",
   "execution_count": 110,
   "metadata": {},
   "outputs": [
    {
     "name": "stdout",
     "output_type": "stream",
     "text": [
      "F0semitoneFrom27.5Hz_sma3nz_amean             0\n",
      "F0semitoneFrom27.5Hz_sma3nz_stddevNorm        0\n",
      "F0semitoneFrom27.5Hz_sma3nz_percentile20.0    0\n",
      "F0semitoneFrom27.5Hz_sma3nz_percentile50.0    0\n",
      "F0semitoneFrom27.5Hz_sma3nz_percentile80.0    0\n",
      "                                             ..\n",
      "StddevUnvoicedSegmentLength                   0\n",
      "equivalentSoundLevel_dBp                      0\n",
      "participant_id                                0\n",
      "Depression                                    0\n",
      "Gender                                        0\n",
      "Length: 91, dtype: int64\n",
      "Empty DataFrame\n",
      "Columns: [F0semitoneFrom27.5Hz_sma3nz_amean, F0semitoneFrom27.5Hz_sma3nz_stddevNorm, F0semitoneFrom27.5Hz_sma3nz_percentile20.0, F0semitoneFrom27.5Hz_sma3nz_percentile50.0, F0semitoneFrom27.5Hz_sma3nz_percentile80.0, F0semitoneFrom27.5Hz_sma3nz_pctlrange0-2, F0semitoneFrom27.5Hz_sma3nz_meanRisingSlope, F0semitoneFrom27.5Hz_sma3nz_stddevRisingSlope, F0semitoneFrom27.5Hz_sma3nz_meanFallingSlope, F0semitoneFrom27.5Hz_sma3nz_stddevFallingSlope, loudness_sma3_amean, loudness_sma3_stddevNorm, loudness_sma3_percentile20.0, loudness_sma3_percentile50.0, loudness_sma3_percentile80.0, loudness_sma3_pctlrange0-2, loudness_sma3_meanRisingSlope, loudness_sma3_stddevRisingSlope, loudness_sma3_meanFallingSlope, loudness_sma3_stddevFallingSlope, spectralFlux_sma3_amean, spectralFlux_sma3_stddevNorm, mfcc1_sma3_amean, mfcc1_sma3_stddevNorm, mfcc2_sma3_amean, mfcc2_sma3_stddevNorm, mfcc3_sma3_amean, mfcc3_sma3_stddevNorm, mfcc4_sma3_amean, mfcc4_sma3_stddevNorm, jitterLocal_sma3nz_amean, jitterLocal_sma3nz_stddevNorm, shimmerLocaldB_sma3nz_amean, shimmerLocaldB_sma3nz_stddevNorm, HNRdBACF_sma3nz_amean, HNRdBACF_sma3nz_stddevNorm, logRelF0-H1-H2_sma3nz_amean, logRelF0-H1-H2_sma3nz_stddevNorm, logRelF0-H1-A3_sma3nz_amean, logRelF0-H1-A3_sma3nz_stddevNorm, F1frequency_sma3nz_amean, F1frequency_sma3nz_stddevNorm, F1bandwidth_sma3nz_amean, F1bandwidth_sma3nz_stddevNorm, F1amplitudeLogRelF0_sma3nz_amean, F1amplitudeLogRelF0_sma3nz_stddevNorm, F2frequency_sma3nz_amean, F2frequency_sma3nz_stddevNorm, F2bandwidth_sma3nz_amean, F2bandwidth_sma3nz_stddevNorm, F2amplitudeLogRelF0_sma3nz_amean, F2amplitudeLogRelF0_sma3nz_stddevNorm, F3frequency_sma3nz_amean, F3frequency_sma3nz_stddevNorm, F3bandwidth_sma3nz_amean, F3bandwidth_sma3nz_stddevNorm, F3amplitudeLogRelF0_sma3nz_amean, F3amplitudeLogRelF0_sma3nz_stddevNorm, alphaRatioV_sma3nz_amean, alphaRatioV_sma3nz_stddevNorm, hammarbergIndexV_sma3nz_amean, hammarbergIndexV_sma3nz_stddevNorm, slopeV0-500_sma3nz_amean, slopeV0-500_sma3nz_stddevNorm, slopeV500-1500_sma3nz_amean, slopeV500-1500_sma3nz_stddevNorm, spectralFluxV_sma3nz_amean, spectralFluxV_sma3nz_stddevNorm, mfcc1V_sma3nz_amean, mfcc1V_sma3nz_stddevNorm, mfcc2V_sma3nz_amean, mfcc2V_sma3nz_stddevNorm, mfcc3V_sma3nz_amean, mfcc3V_sma3nz_stddevNorm, mfcc4V_sma3nz_amean, mfcc4V_sma3nz_stddevNorm, alphaRatioUV_sma3nz_amean, hammarbergIndexUV_sma3nz_amean, slopeUV0-500_sma3nz_amean, slopeUV500-1500_sma3nz_amean, spectralFluxUV_sma3nz_amean, loudnessPeaksPerSec, VoicedSegmentsPerSec, MeanVoicedSegmentLengthSec, StddevVoicedSegmentLengthSec, MeanUnvoicedSegmentLength, StddevUnvoicedSegmentLength, equivalentSoundLevel_dBp, participant_id, Depression, Gender]\n",
      "Index: []\n",
      "\n",
      "[0 rows x 91 columns]\n"
     ]
    }
   ],
   "source": [
    "# print null count\n",
    "print(df.isnull().sum())\n",
    "\n",
    "# Print row with null values\n",
    "print(df[df.isnull().any(axis=1)])"
   ]
  },
  {
   "cell_type": "markdown",
   "metadata": {},
   "source": [
    "# Preprocessing"
   ]
  },
  {
   "cell_type": "code",
   "execution_count": 40,
   "metadata": {},
   "outputs": [],
   "source": [
    "# Drop null rows\n",
    "df = df.dropna()"
   ]
  },
  {
   "cell_type": "markdown",
   "metadata": {},
   "source": [
    "# Training"
   ]
  },
  {
   "cell_type": "code",
   "execution_count": 42,
   "metadata": {},
   "outputs": [],
   "source": [
    "from sklearn.model_selection import train_test_split\n",
    "\n",
    "# Drop Depression, Gender columns\n",
    "X = df.drop(['Depression', 'Gender', 'participant_id'], axis=1)\n",
    "y = df['Gender']\n",
    "\n",
    "# normalize the data\n",
    "from sklearn.preprocessing import StandardScaler\n",
    "scaler = StandardScaler()\n",
    "X = scaler.fit_transform(X)\n",
    "\n",
    "# Split the data into training and validation set\n",
    "X_train, X_val, y_train, y_val = train_test_split(X, y, test_size=0.2, random_state=42)"
   ]
  },
  {
   "cell_type": "markdown",
   "metadata": {},
   "source": [
    "#### Feed-Forward Neural Network"
   ]
  },
  {
   "cell_type": "code",
   "execution_count": 111,
   "metadata": {},
   "outputs": [
    {
     "name": "stdout",
     "output_type": "stream",
     "text": [
      "Validation Accuracy: 0.9599999785423279\n",
      "Validation Accuracy: 0.9420183300971985\n",
      "Validation Accuracy: 0.9647706151008606\n",
      "Validation Accuracy: 0.9566972255706787\n"
     ]
    }
   ],
   "source": [
    "from keras import models, layers, optimizers, regularizers\n",
    "\n",
    "def build_and_train_model(layer_sizes, activation_fn, regularization_rate, X_train, y_train, X_val, y_val):\n",
    "    model = models.Sequential()\n",
    "    for i, size in enumerate(layer_sizes):\n",
    "        if i == 0:\n",
    "            model.add(layers.Dense(size, activation=activation_fn, input_shape=(X_train.shape[1],), kernel_regularizer=regularizers.l2(regularization_rate)))\n",
    "        else:\n",
    "            model.add(layers.Dense(size, activation=activation_fn, kernel_regularizer=regularizers.l2(regularization_rate)))\n",
    "    model.add(layers.Dense(1, activation='sigmoid'))\n",
    "\n",
    "    model.compile(optimizer='adam', loss='binary_crossentropy', metrics=['accuracy'])\n",
    "\n",
    "    model.fit(X_train, y_train, epochs=100, batch_size=64, verbose=0)\n",
    "\n",
    "    if X_val is not None and y_val is not None:\n",
    "        _, accuracy = model.evaluate(X_val, y_val, verbose=0)\n",
    "        print('Validation Accuracy:', accuracy)\n",
    "        \n",
    "    return model\n",
    "\n",
    "model1 = build_and_train_model([256, 64, 32], 'relu', 0.001, X_train, y_train, X_val, y_val)\n",
    "model2 = build_and_train_model([256, 64, 32], 'sigmoid', 0.001, X_train, y_train, X_val, y_val)\n",
    "model3 = build_and_train_model([256, 128, 64, 32], 'relu', 0.001, X_train, y_train, X_val, y_val)\n",
    "model4 = build_and_train_model([512, 256, 128, 32], 'relu', 0.001, X_train, y_train, X_val, y_val)\n"
   ]
  },
  {
   "cell_type": "markdown",
   "metadata": {},
   "source": [
    "#### Random Forest"
   ]
  },
  {
   "cell_type": "code",
   "execution_count": 50,
   "metadata": {},
   "outputs": [
    {
     "name": "stdout",
     "output_type": "stream",
     "text": [
      "Fitting 5 folds for each of 36 candidates, totalling 180 fits\n",
      "Best parameters: {'max_depth': 20, 'max_features': 'sqrt', 'min_samples_split': 10, 'n_estimators': 300}\n",
      "Validation Accuracy: 0.9467889908256881\n"
     ]
    }
   ],
   "source": [
    "from sklearn.ensemble import RandomForestClassifier\n",
    "from sklearn.model_selection import GridSearchCV\n",
    "from sklearn.metrics import accuracy_score\n",
    "\n",
    "param_grid = {\n",
    "    'n_estimators': [100, 200, 300],  # Number of trees in the forest\n",
    "    'max_features': ['sqrt', 'log2'],  # Number of features to consider at every split\n",
    "    'max_depth': [None, 20, 40],  # Maximum number of levels in tree\n",
    "    'min_samples_split': [5, 10]  # Minimum number of samples required to split a node\n",
    "}\n",
    "\n",
    "# Initialize the classifier\n",
    "rf = RandomForestClassifier(random_state=42)\n",
    "\n",
    "# Setup the grid search with 5-fold cross-validation\n",
    "grid_search = GridSearchCV(estimator=rf, param_grid=param_grid, cv=5, scoring='accuracy', verbose=1)\n",
    "\n",
    "# Fit grid_search to the data\n",
    "grid_search.fit(X_train, y_train)\n",
    "\n",
    "\n",
    "# Best parameters\n",
    "best_params = grid_search.best_params_\n",
    "print(\"Best parameters:\", best_params)\n",
    "\n",
    "# Best model from grid search\n",
    "best_rf = grid_search.best_estimator_\n",
    "\n",
    "# Predict on the validation set\n",
    "y_pred = best_rf.predict(X_val)\n",
    "\n",
    "# Calculate accuracy\n",
    "accuracy = accuracy_score(y_val, y_pred)\n",
    "print(\"Validation Accuracy:\", accuracy)\n"
   ]
  },
  {
   "cell_type": "markdown",
   "metadata": {},
   "source": [
    "output (21m 22.7s):\n",
    "```\n",
    "Fitting 5 folds for each of 36 candidates, totalling 180 fits\n",
    "Best parameters: {'max_depth': 20, 'max_features': 'sqrt', 'min_samples_split': 10, 'n_estimators': 300}\n",
    "Validation Accuracy: 0.9467889908256881\n",
    "```"
   ]
  },
  {
   "cell_type": "markdown",
   "metadata": {},
   "source": [
    "# Choosing a ML Algorithm/Model\n",
    "We will choose to use the FFNN Model 3 architecture as it achieved the best sample level validation accuracy."
   ]
  },
  {
   "cell_type": "code",
   "execution_count": 113,
   "metadata": {},
   "outputs": [],
   "source": [
    "final_model = build_and_train_model([256, 128, 64, 32], 'relu', 0.001, X, y, None, None)"
   ]
  },
  {
   "cell_type": "markdown",
   "metadata": {},
   "source": [
    "# Accuracies at the Participant Level"
   ]
  },
  {
   "cell_type": "code",
   "execution_count": 114,
   "metadata": {},
   "outputs": [],
   "source": [
    "# Split data frame into multiple dataframes by participant_id and store a list of dataframes\n",
    "def split_df_by_id(df):\n",
    "    return [df[df['participant_id'] == id] for id in df['participant_id'].unique()]\n"
   ]
  },
  {
   "cell_type": "code",
   "execution_count": 115,
   "metadata": {},
   "outputs": [],
   "source": [
    "def classifyParticipantGender(participant_df, model):\n",
    "    # Drop Depression, Gender, participant_id\n",
    "    X = participant_df.drop(['Depression','Gender', 'participant_id'], axis=1)\n",
    "    y = participant_df['Gender'].values[0]\n",
    "\n",
    "    # Normalize the data according to the scaler used for training\n",
    "    X = scaler.transform(X)\n",
    "    \n",
    "    # Predict\n",
    "    y_pred = model.predict(X, verbose=0)\n",
    "\n",
    "    # Majority vote for the participant\n",
    "    y_pred = y_pred.mean() > 0.5\n",
    "\n",
    "    return y_pred, y"
   ]
  },
  {
   "cell_type": "code",
   "execution_count": 116,
   "metadata": {},
   "outputs": [],
   "source": [
    "def getAccuraciesForParticipants(df_list, model):\n",
    "    # female = 0, male = 1\n",
    "    correct_female = 0\n",
    "    correct_male = 0\n",
    "    total_female = 0\n",
    "    total_male = 0\n",
    "    for df in df_list:\n",
    "        pred, actual = classifyParticipantGender(df, model)\n",
    "        if pred == actual:\n",
    "            if actual == 0:\n",
    "                correct_female += 1\n",
    "            else:\n",
    "                correct_male += 1\n",
    "        if actual == 0:\n",
    "            total_female += 1\n",
    "        else:\n",
    "            total_male += 1\n",
    "\n",
    "    accuracy = (correct_female + correct_male) / (total_female + total_male)\n",
    "    balanced_accuracy = 0.5 * correct_female / total_female + 0.5 * correct_male / total_male\n",
    "                \n",
    "    return accuracy, balanced_accuracy"
   ]
  },
  {
   "cell_type": "code",
   "execution_count": 117,
   "metadata": {},
   "outputs": [
    {
     "name": "stdout",
     "output_type": "stream",
     "text": [
      "Training Accuracy: 1.0 Balanced Accuracy: 1.0\n"
     ]
    }
   ],
   "source": [
    "acc, bal_acc = getAccuraciesForParticipants(split_df_by_id(df), final_model)\n",
    "print(\"Training Accuracy:\", acc, \"Balanced Accuracy:\", bal_acc)"
   ]
  },
  {
   "cell_type": "code",
   "execution_count": 118,
   "metadata": {},
   "outputs": [],
   "source": [
    "test_df = pd.read_csv('../Datasets/ADS/final_testing_data.csv', index_col=0)"
   ]
  },
  {
   "cell_type": "code",
   "execution_count": 119,
   "metadata": {},
   "outputs": [
    {
     "name": "stdout",
     "output_type": "stream",
     "text": [
      "Training Accuracy: 1.0 Balanced Accuracy: 1.0\n"
     ]
    }
   ],
   "source": [
    "acc, bal_acc = getAccuraciesForParticipants(split_df_by_id(test_df), final_model)\n",
    "print(\"Training Accuracy:\", acc, \"Balanced Accuracy:\", bal_acc)"
   ]
  },
  {
   "cell_type": "markdown",
   "metadata": {},
   "source": [
    "# Results\n",
    "\n",
    "100% accuracy and 100% balanced accuracy on both the training set and the test set."
   ]
  }
 ],
 "metadata": {
  "kernelspec": {
   "display_name": "base",
   "language": "python",
   "name": "python3"
  },
  "language_info": {
   "codemirror_mode": {
    "name": "ipython",
    "version": 3
   },
   "file_extension": ".py",
   "mimetype": "text/x-python",
   "name": "python",
   "nbconvert_exporter": "python",
   "pygments_lexer": "ipython3",
   "version": "3.11.5"
  }
 },
 "nbformat": 4,
 "nbformat_minor": 2
}
