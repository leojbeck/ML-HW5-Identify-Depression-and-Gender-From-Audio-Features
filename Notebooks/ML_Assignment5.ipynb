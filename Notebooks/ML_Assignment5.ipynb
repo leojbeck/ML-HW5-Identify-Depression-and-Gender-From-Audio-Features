{
  "cells": [
    {
      "cell_type": "markdown",
      "metadata": {
        "id": "2SSB4MPLOz_E"
      },
      "source": [
        "# a.i. Depression Classification"
      ]
    },
    {
      "cell_type": "code",
      "execution_count": 1,
      "metadata": {
        "id": "WKZYKdUjOz_F"
      },
      "outputs": [],
      "source": [
        "#import necessary libraries\n",
        "import pandas as pd\n",
        "import numpy as np\n",
        "import matplotlib.pyplot as plt\n",
        "import seaborn as sns\n",
        "\n",
        "from sklearn.ensemble import RandomForestClassifier\n",
        "from sklearn.metrics import accuracy_score, balanced_accuracy_score"
      ]
    },
    {
      "cell_type": "markdown",
      "metadata": {
        "id": "JdYTLcK3Oz_F"
      },
      "source": [
        "# Cleaning"
      ]
    },
    {
      "cell_type": "code",
      "execution_count": 2,
      "metadata": {
        "id": "UrjyJXLwOz_F"
      },
      "outputs": [],
      "source": [
        "#Function to clean the data\n",
        "def data_cleaning(file_path):\n",
        "    df = pd.read_csv(file_path, index_col=0)\n",
        "    df.dropna(inplace=True)\n",
        "\n",
        "    return df"
      ]
    },
    {
      "cell_type": "code",
      "execution_count": 3,
      "metadata": {
        "id": "gMlp1eWlOz_F"
      },
      "outputs": [],
      "source": [
        "train_file = \"/content/sample_data/final_training_data.csv\"\n",
        "test_file = \"/content/sample_data/final_testing_data.csv\"\n",
        "\n",
        "# train_file = \"../Datasets/ADS/final_training_data.csv\"\n",
        "# test_file = \"../Datasets/ADS/final_testing_data.csv\"\n",
        "\n",
        "#After data exploring we found that one of the data sample's turn was all NA. So we removed it\n",
        "train_data_source = data_cleaning(train_file)\n",
        "test_data = data_cleaning(test_file)"
      ]
    },
    {
      "cell_type": "markdown",
      "metadata": {
        "id": "Jum_GsEWOz_F"
      },
      "source": [
        "# Training"
      ]
    },
    {
      "cell_type": "code",
      "execution_count": 4,
      "metadata": {
        "id": "zplUiczWOz_F"
      },
      "outputs": [],
      "source": [
        "from sklearn.model_selection import train_test_split\n",
        "\n",
        "#Select the features and target variables from the train set\n",
        "X_tr = train_data_source.drop(['Depression', 'Gender', 'participant_id'], axis=1)\n",
        "y_tr = train_data_source['Depression']\n",
        "feature_names = X_tr.columns\n",
        "gender = train_data_source['Gender']\n",
        "\n",
        "#Normalize the data using standard scaler\n",
        "from sklearn.preprocessing import StandardScaler\n",
        "scaler = StandardScaler()\n",
        "X_tr_scaled = scaler.fit_transform(X_tr)\n",
        "\n",
        "#Split the data into training and validation set\n",
        "X_train, X_val, y_train, y_val, genders_train, genders_val = train_test_split(X_tr_scaled, y_tr, gender, test_size=0.2, random_state=42)"
      ]
    },
    {
      "cell_type": "code",
      "execution_count": 6,
      "metadata": {
        "colab": {
          "base_uri": "https://localhost:8080/"
        },
        "id": "f1iUkhReOz_F",
        "outputId": "65eb01ae-c6e5-42cc-e1bc-162eeaea8480"
      },
      "outputs": [
        {
          "name": "stdout",
          "output_type": "stream",
          "text": [
            "(10900, 88) (2725, 88) (10900,) (2725,) (10900,)\n"
          ]
        }
      ],
      "source": [
        "print(X_train.shape, X_val.shape, y_train.shape, y_val.shape, genders_train.shape)"
      ]
    },
    {
      "cell_type": "code",
      "execution_count": null,
      "metadata": {
        "id": "rkRPk1YZOz_G",
        "outputId": "25061434-d1e3-439f-d105-e0b8777a0bdd"
      },
      "outputs": [
        {
          "name": "stdout",
          "output_type": "stream",
          "text": [
            "Fitting 3 folds for each of 36 candidates, totalling 108 fits\n",
            "Best parameters: {'max_depth': None, 'max_features': 'sqrt', 'min_samples_split': 5, 'n_estimators': 300}\n",
            "Validation Accuracy: 0.8469724770642202\n"
          ]
        }
      ],
      "source": [
        "from sklearn.ensemble import RandomForestClassifier\n",
        "from sklearn.model_selection import GridSearchCV\n",
        "from sklearn.metrics import accuracy_score\n",
        "\n",
        "param_grid = {\n",
        "    'n_estimators': [100, 200, 300],  # Number of trees in the forest\n",
        "    'max_features': ['sqrt', 'log2'],  # Number of features to consider at every split\n",
        "    'max_depth': [None, 20, 40],  # Maximum number of levels in tree\n",
        "    'min_samples_split': [5, 10]  # Minimum number of samples required to split a node\n",
        "}\n",
        "\n",
        "#Initialize the classifier\n",
        "rf = RandomForestClassifier(random_state=42)\n",
        "\n",
        "#Setup the grid search with 5-fold cross-validation\n",
        "grid_search = GridSearchCV(estimator=rf, param_grid=param_grid, cv=3, scoring='accuracy', verbose=1)\n",
        "\n",
        "#Fit grid_search to the data\n",
        "grid_search.fit(X_train, y_train)\n",
        "\n",
        "\n",
        "#Best parameters\n",
        "best_params = grid_search.best_params_\n",
        "print(\"Best parameters:\", best_params)\n",
        "\n",
        "#Best model from grid search\n",
        "best_rf = grid_search.best_estimator_\n",
        "\n",
        "#Predict on the validation set\n",
        "y_pred = best_rf.predict(X_val)\n",
        "\n",
        "#Calculate accuracy\n",
        "accuracy = accuracy_score(y_val, y_pred)\n",
        "print(\"Validation Accuracy:\", accuracy)"
      ]
    },
    {
      "cell_type": "code",
      "execution_count": 7,
      "metadata": {
        "colab": {
          "base_uri": "https://localhost:8080/",
          "height": 75
        },
        "id": "095tmxJsOz_G",
        "outputId": "68d104b1-a25a-456b-965e-7bba74432c73"
      },
      "outputs": [
        {
          "data": {
            "text/html": [
              "<style>#sk-container-id-1 {color: black;background-color: white;}#sk-container-id-1 pre{padding: 0;}#sk-container-id-1 div.sk-toggleable {background-color: white;}#sk-container-id-1 label.sk-toggleable__label {cursor: pointer;display: block;width: 100%;margin-bottom: 0;padding: 0.3em;box-sizing: border-box;text-align: center;}#sk-container-id-1 label.sk-toggleable__label-arrow:before {content: \"▸\";float: left;margin-right: 0.25em;color: #696969;}#sk-container-id-1 label.sk-toggleable__label-arrow:hover:before {color: black;}#sk-container-id-1 div.sk-estimator:hover label.sk-toggleable__label-arrow:before {color: black;}#sk-container-id-1 div.sk-toggleable__content {max-height: 0;max-width: 0;overflow: hidden;text-align: left;background-color: #f0f8ff;}#sk-container-id-1 div.sk-toggleable__content pre {margin: 0.2em;color: black;border-radius: 0.25em;background-color: #f0f8ff;}#sk-container-id-1 input.sk-toggleable__control:checked~div.sk-toggleable__content {max-height: 200px;max-width: 100%;overflow: auto;}#sk-container-id-1 input.sk-toggleable__control:checked~label.sk-toggleable__label-arrow:before {content: \"▾\";}#sk-container-id-1 div.sk-estimator input.sk-toggleable__control:checked~label.sk-toggleable__label {background-color: #d4ebff;}#sk-container-id-1 div.sk-label input.sk-toggleable__control:checked~label.sk-toggleable__label {background-color: #d4ebff;}#sk-container-id-1 input.sk-hidden--visually {border: 0;clip: rect(1px 1px 1px 1px);clip: rect(1px, 1px, 1px, 1px);height: 1px;margin: -1px;overflow: hidden;padding: 0;position: absolute;width: 1px;}#sk-container-id-1 div.sk-estimator {font-family: monospace;background-color: #f0f8ff;border: 1px dotted black;border-radius: 0.25em;box-sizing: border-box;margin-bottom: 0.5em;}#sk-container-id-1 div.sk-estimator:hover {background-color: #d4ebff;}#sk-container-id-1 div.sk-parallel-item::after {content: \"\";width: 100%;border-bottom: 1px solid gray;flex-grow: 1;}#sk-container-id-1 div.sk-label:hover label.sk-toggleable__label {background-color: #d4ebff;}#sk-container-id-1 div.sk-serial::before {content: \"\";position: absolute;border-left: 1px solid gray;box-sizing: border-box;top: 0;bottom: 0;left: 50%;z-index: 0;}#sk-container-id-1 div.sk-serial {display: flex;flex-direction: column;align-items: center;background-color: white;padding-right: 0.2em;padding-left: 0.2em;position: relative;}#sk-container-id-1 div.sk-item {position: relative;z-index: 1;}#sk-container-id-1 div.sk-parallel {display: flex;align-items: stretch;justify-content: center;background-color: white;position: relative;}#sk-container-id-1 div.sk-item::before, #sk-container-id-1 div.sk-parallel-item::before {content: \"\";position: absolute;border-left: 1px solid gray;box-sizing: border-box;top: 0;bottom: 0;left: 50%;z-index: -1;}#sk-container-id-1 div.sk-parallel-item {display: flex;flex-direction: column;z-index: 1;position: relative;background-color: white;}#sk-container-id-1 div.sk-parallel-item:first-child::after {align-self: flex-end;width: 50%;}#sk-container-id-1 div.sk-parallel-item:last-child::after {align-self: flex-start;width: 50%;}#sk-container-id-1 div.sk-parallel-item:only-child::after {width: 0;}#sk-container-id-1 div.sk-dashed-wrapped {border: 1px dashed gray;margin: 0 0.4em 0.5em 0.4em;box-sizing: border-box;padding-bottom: 0.4em;background-color: white;}#sk-container-id-1 div.sk-label label {font-family: monospace;font-weight: bold;display: inline-block;line-height: 1.2em;}#sk-container-id-1 div.sk-label-container {text-align: center;}#sk-container-id-1 div.sk-container {/* jupyter's `normalize.less` sets `[hidden] { display: none; }` but bootstrap.min.css set `[hidden] { display: none !important; }` so we also need the `!important` here to be able to override the default hidden behavior on the sphinx rendered scikit-learn.org. See: https://github.com/scikit-learn/scikit-learn/issues/21755 */display: inline-block !important;position: relative;}#sk-container-id-1 div.sk-text-repr-fallback {display: none;}</style><div id=\"sk-container-id-1\" class=\"sk-top-container\"><div class=\"sk-text-repr-fallback\"><pre>RandomForestClassifier(min_samples_split=5, n_estimators=300, random_state=42)</pre><b>In a Jupyter environment, please rerun this cell to show the HTML representation or trust the notebook. <br />On GitHub, the HTML representation is unable to render, please try loading this page with nbviewer.org.</b></div><div class=\"sk-container\" hidden><div class=\"sk-item\"><div class=\"sk-estimator sk-toggleable\"><input class=\"sk-toggleable__control sk-hidden--visually\" id=\"sk-estimator-id-1\" type=\"checkbox\" checked><label for=\"sk-estimator-id-1\" class=\"sk-toggleable__label sk-toggleable__label-arrow\">RandomForestClassifier</label><div class=\"sk-toggleable__content\"><pre>RandomForestClassifier(min_samples_split=5, n_estimators=300, random_state=42)</pre></div></div></div></div></div>"
            ],
            "text/plain": [
              "RandomForestClassifier(min_samples_split=5, n_estimators=300, random_state=42)"
            ]
          },
          "execution_count": 7,
          "metadata": {},
          "output_type": "execute_result"
        }
      ],
      "source": [
        "rf_best = RandomForestClassifier(max_depth=None, max_features= 'sqrt', min_samples_split= 5,\n",
        "                                    n_estimators=300, random_state=42)\n",
        "rf_best.fit(X_train, y_train)"
      ]
    },
    {
      "cell_type": "markdown",
      "metadata": {
        "id": "O807e3ETOz_G"
      },
      "source": [
        "# Performing predictions on the test data"
      ]
    },
    {
      "cell_type": "code",
      "execution_count": 8,
      "metadata": {
        "id": "MX-xzv-XOz_G"
      },
      "outputs": [],
      "source": [
        "#Function to aggregate turn-based decisions at the participant level\n",
        "def aggregate_decisions(decisions):\n",
        "    return int(decisions.mean() >= 0.5)"
      ]
    },
    {
      "cell_type": "code",
      "execution_count": 9,
      "metadata": {
        "id": "iyZEH8FZOz_G"
      },
      "outputs": [],
      "source": [
        "#Select the features and target variables from the test set\n",
        "X_test = test_data.drop(['Depression', 'Gender', 'participant_id'], axis=1)\n",
        "y_test = test_data['Depression']\n",
        "\n",
        "#Normalize the test data using the scaler fitted on the training data\n",
        "X_test = scaler.transform(X_test)\n",
        "\n",
        "#Make predictions on the test set\n",
        "y_pred_test = rf_best.predict(X_test)"
      ]
    },
    {
      "cell_type": "code",
      "execution_count": 10,
      "metadata": {
        "id": "gh_6W60IOz_G"
      },
      "outputs": [],
      "source": [
        "'''\n",
        "Aggregrate predictions on a participant level\n",
        "'''\n",
        "#Get the participant IDs and genders for the test set\n",
        "participant_ids_test = test_data['participant_id']\n",
        "genders_test = test_data['Gender']\n",
        "\n",
        "#Aggregate the predictions at the participant level\n",
        "def aggregate_predictions(y_pred_test):\n",
        "  participant_preds_test = {} #Have turns predictions for each participant\n",
        "  for participant_id, pred in zip(participant_ids_test, y_pred_test):\n",
        "      if participant_id not in participant_preds_test:\n",
        "          participant_preds_test[participant_id] = []\n",
        "      participant_preds_test[participant_id].append(pred)\n",
        "\n",
        "  participant_final_preds_test = {} #Store aggregrated results\n",
        "  for participant_id, preds in participant_preds_test.items():\n",
        "      participant_final_preds_test[participant_id] = aggregate_decisions(pd.Series(preds))\n",
        "  return participant_final_preds_test"
      ]
    },
    {
      "cell_type": "code",
      "execution_count": 11,
      "metadata": {
        "id": "210hAPAROz_G"
      },
      "outputs": [],
      "source": [
        "#Evaluate the predictions against the true labels\n",
        "participant_final_preds_test = aggregate_predictions(y_pred_test)\n",
        "y_true_test = y_test.groupby(participant_ids_test).mean().round().astype(int)\n",
        "y_pred_final_test = pd.Series(participant_final_preds_test)"
      ]
    },
    {
      "cell_type": "code",
      "execution_count": 12,
      "metadata": {
        "id": "tVyyWw8vOz_H"
      },
      "outputs": [],
      "source": [
        "#Calculate accuracy and balanced accuracy\n",
        "accuracy_test = accuracy_score(y_true_test, y_pred_final_test)\n",
        "balanced_accuracy_test = balanced_accuracy_score(y_true_test, y_pred_final_test)\n",
        "\n",
        "#Calculate equality of opportunity (EO) for the test set\n",
        "def calculate_tpr(y_true_test, y_pred_final_test):\n",
        "  genders_test_aggregated = genders_test.groupby(participant_ids_test).first()\n",
        "  male_mask_test = (genders_test_aggregated == 1)\n",
        "  female_mask_test = (genders_test_aggregated == 0)\n",
        "\n",
        "  tpr_male_test = accuracy_score(y_true_test[male_mask_test], y_pred_final_test[male_mask_test])\n",
        "  tpr_female_test = accuracy_score(y_true_test[female_mask_test], y_pred_final_test[female_mask_test])\n",
        "\n",
        "  return [male_mask_test, female_mask_test, tpr_male_test, tpr_female_test]\n",
        "\n",
        "mask_and_tpr = calculate_tpr(y_true_test, y_pred_final_test)\n",
        "male_mask_test, female_mask_test, tpr_male_test, tpr_female_test = mask_and_tpr[0], mask_and_tpr[1], mask_and_tpr[2], mask_and_tpr[3]\n",
        "eo_test = 1 - abs(tpr_male_test - tpr_female_test)"
      ]
    },
    {
      "cell_type": "code",
      "execution_count": 13,
      "metadata": {
        "colab": {
          "base_uri": "https://localhost:8080/"
        },
        "id": "VcQAOZLWOz_H",
        "outputId": "dbf07c55-fd86-4373-fdfd-2c0a117a9721"
      },
      "outputs": [
        {
          "name": "stdout",
          "output_type": "stream",
          "text": [
            "Test Accuracy: 0.65\n",
            "Test Balanced Accuracy: 0.464\n",
            "Test Equality of Opportunity (EO): 0.542\n",
            "Male Accuracy: 0.833\n",
            "Female Accuracy: 0.375\n",
            "Male Balanced Accuracy: 0.455\n",
            "Female Balanced Accuracy: 0.5\n"
          ]
        }
      ],
      "source": [
        "#Print the evaluation metrics for the test set\n",
        "print(\"Test Accuracy:\", accuracy_test)\n",
        "print(\"Test Balanced Accuracy:\", round(balanced_accuracy_test,3))\n",
        "print(\"Test Equality of Opportunity (EO):\", round(eo_test,3))\n",
        "\n",
        "#Print the evaluation metrics for male and female participants separately\n",
        "print(\"Male Accuracy:\", round(tpr_male_test,3))\n",
        "print(\"Female Accuracy:\", round(tpr_female_test,3))\n",
        "print(\"Male Balanced Accuracy:\", round(balanced_accuracy_score(y_true_test[male_mask_test], y_pred_final_test[male_mask_test]),3))\n",
        "print(\"Female Balanced Accuracy:\", balanced_accuracy_score(y_true_test[female_mask_test], y_pred_final_test[female_mask_test]))"
      ]
    },
    {
      "cell_type": "markdown",
      "metadata": {
        "id": "0jNQGj8TRop5"
      },
      "source": [
        "**b. Feature Selection**"
      ]
    },
    {
      "cell_type": "code",
      "execution_count": 14,
      "metadata": {
        "id": "sR50ryn0R57B"
      },
      "outputs": [],
      "source": [
        "#Feature selection using mutual information\n",
        "\n",
        "from sklearn.feature_selection import mutual_info_classif\n",
        "from sklearn.metrics import accuracy_score, confusion_matrix\n",
        "\n",
        "info = mutual_info_classif(X_train, y_train)\n",
        "features_ranked = feature_names[np.argsort(-info)]"
      ]
    },
    {
      "cell_type": "code",
      "execution_count": 15,
      "metadata": {
        "colab": {
          "base_uri": "https://localhost:8080/"
        },
        "id": "z3EqXWXiR_mN",
        "outputId": "99e72c86-30b1-4f52-8ed8-d1df03f0d5c3"
      },
      "outputs": [
        {
          "name": "stdout",
          "output_type": "stream",
          "text": [
            "Index(['loudness_sma3_pctlrange0-2', 'equivalentSoundLevel_dBp',\n",
            "       'loudness_sma3_percentile80.0', 'loudness_sma3_amean',\n",
            "       'F0semitoneFrom27.5Hz_sma3nz_percentile50.0',\n",
            "       'spectralFluxV_sma3nz_amean',\n",
            "       'F0semitoneFrom27.5Hz_sma3nz_percentile20.0',\n",
            "       'F0semitoneFrom27.5Hz_sma3nz_percentile80.0',\n",
            "       'loudness_sma3_meanFallingSlope', 'loudness_sma3_meanRisingSlope',\n",
            "       'mfcc2_sma3_stddevNorm', 'loudness_sma3_percentile50.0',\n",
            "       'F0semitoneFrom27.5Hz_sma3nz_amean', 'spectralFlux_sma3_amean',\n",
            "       'slopeV500-1500_sma3nz_stddevNorm', 'mfcc4V_sma3nz_amean',\n",
            "       'shimmerLocaldB_sma3nz_amean', 'F2frequency_sma3nz_amean',\n",
            "       'logRelF0-H1-A3_sma3nz_amean', 'alphaRatioV_sma3nz_amean'],\n",
            "      dtype='object')\n"
          ]
        }
      ],
      "source": [
        "selected_features = features_ranked[:20]\n",
        "print(selected_features)"
      ]
    },
    {
      "cell_type": "markdown",
      "metadata": {
        "id": "BMPVhKRJSHti"
      },
      "source": [
        "Mutual information is calculated to determine the importance of each feature regarding the target variable. The above listed features are the most 20 informative features of depression on the training data. Among all the features most of them are loudness related and F0semitone related features."
      ]
    },
    {
      "cell_type": "code",
      "execution_count": 16,
      "metadata": {
        "id": "XSYs67bISI9Y"
      },
      "outputs": [],
      "source": [
        "def aggregatePredictions(predictions, ids, genders):\n",
        "    df = pd.DataFrame({'id': ids, 'prediction': predictions, 'gender': genders})\n",
        "    df_aggregated = df.groupby('id').agg(\n",
        "        prediction=('prediction', lambda x: np.round(x.mean()).astype(int)),\n",
        "        gender=('gender', 'first')\n",
        "    )\n",
        "    return df_aggregated\n",
        "\n",
        "def evaluate_metrics(y_true, y_pred):\n",
        "    accuracy = accuracy_score(y_true, y_pred)\n",
        "    cm = confusion_matrix(y_true, y_pred, labels=[0,1])\n",
        "    ba = 0.5 * (cm[0, 0] / cm[0,:].sum() + cm[1, 1] / cm[1,:].sum())\n",
        "    return accuracy, ba"
      ]
    },
    {
      "cell_type": "code",
      "execution_count": 17,
      "metadata": {
        "colab": {
          "base_uri": "https://localhost:8080/"
        },
        "id": "Gz95ncRwSNSC",
        "outputId": "a76ef26b-b636-4390-df2f-24d765a174e4"
      },
      "outputs": [
        {
          "name": "stdout",
          "output_type": "stream",
          "text": [
            "No of features: 10 ; acc: 0.55 ; ba: 0.393, eo:0.708\n",
            "No of features: 15 ; acc: 0.65 ; ba: 0.464, eo:0.542\n",
            "No of features: 20 ; acc: 0.65 ; ba: 0.464, eo:0.542\n",
            "No of features: 25 ; acc: 0.65 ; ba: 0.464, eo:0.542\n",
            "No of features: 30 ; acc: 0.65 ; ba: 0.464, eo:0.542\n",
            "No of features: 35 ; acc: 0.65 ; ba: 0.464, eo:0.542\n",
            "No of features: 40 ; acc: 0.65 ; ba: 0.464, eo:0.542\n",
            "No of features: 45 ; acc: 0.65 ; ba: 0.464, eo:0.542\n",
            "No of features: 50 ; acc: 0.65 ; ba: 0.464, eo:0.542\n",
            "No of features: 88 ; acc: 0.65 ; ba: 0.464, eo:0.542\n"
          ]
        }
      ],
      "source": [
        "#Evaluation over different numbers of top features\n",
        "n_features = [10, 15, 20, 25, 30, 35, 40, 45, 50, 88]\n",
        "results = []\n",
        "\n",
        "ids_test = test_data['participant_id']\n",
        "genders_test = test_data['Gender']\n",
        "\n",
        "for n in n_features:\n",
        "    selected_features = features_ranked[:n]\n",
        "    selected_feature_indices = [feature_names.get_loc(name) for name in selected_features]\n",
        "    rf_best.fit(X_train[:, selected_feature_indices], y_train)\n",
        "    y_pred = rf_best.predict(X_test[:, selected_feature_indices])\n",
        "\n",
        "    y_pred_aggregated = aggregatePredictions(y_pred, ids_test, genders_test)\n",
        "    y_test_aggregated = aggregatePredictions(y_test.values, ids_test, genders_test)\n",
        "\n",
        "    acc, ba = evaluate_metrics(y_test_aggregated['prediction'], y_pred_aggregated['prediction'])\n",
        "\n",
        "    mask_and_tpr = calculate_tpr(y_test_aggregated['prediction'], y_pred_aggregated['prediction'])\n",
        "    male_mask_test, female_mask_test, tpr_male_test, tpr_female_test = mask_and_tpr[0], mask_and_tpr[1], mask_and_tpr[2], mask_and_tpr[3]\n",
        "    eo = 1 - abs(tpr_male_test - tpr_female_test)\n",
        "\n",
        "    print(f\"No of features: {n} ; acc: {acc} ; ba: {round(ba,3)}, eo:{round(eo,3)}\")\n",
        "    results.append((n, acc, round(ba,3), round(eo,3)))"
      ]
    },
    {
      "cell_type": "markdown",
      "metadata": {
        "id": "b0vqm9fdSQnO"
      },
      "source": [
        "\n",
        "The accuracies are evaluated based on the different number of selected features. It shows that with 10 features accuracy,balanced accuracy is lowest and EO is highest. For all the other different number of features, the accuracy, balanced accuracy and EO is the same. The accuracy improves from 0.6 to 0.65 as the number of features increases from 10 to 15. This suggests that the additional five features included between these two points provide meaningful information that enhances the model’s predictive capabilities. The extra features beyond the first 15 do not contribute additional predictive value."
      ]
    },
    {
      "cell_type": "code",
      "execution_count": 18,
      "metadata": {
        "colab": {
          "base_uri": "https://localhost:8080/",
          "height": 487
        },
        "id": "x-STykBhSRUl",
        "outputId": "9dc5c2f9-dc0f-4181-f0e0-8084272261f3"
      },
      "outputs": [
        {
          "data": {
            "image/png": "[encoded data removed]",
            "text/plain": [
              "<Figure size 1000x500 with 1 Axes>"
            ]
          },
          "metadata": {},
          "output_type": "display_data"
        }
      ],
      "source": [
        "# Plotting the results\n",
        "results = np.array(results)\n",
        "plt.figure(figsize=(10, 5))\n",
        "plt.plot(results[:, 0], results[:, 1], label='Accuracy')\n",
        "plt.plot(results[:, 0], results[:, 2], label='Balanced Accuracy')\n",
        "plt.plot(results[:, 0], results[:, 3], label='Equality of Opportunity (EO)')\n",
        "plt.xlabel('Number of Features')\n",
        "plt.ylabel('Score')\n",
        "plt.title('Depression Classification Performance')\n",
        "plt.legend()\n",
        "plt.grid(True)\n",
        "plt.show()"
      ]
    },
    {
      "cell_type": "markdown",
      "metadata": {
        "id": "36ZgrRbWSfoL"
      },
      "source": [
        "**e. Mitigating the bias via re-weighting the samples**"
      ]
    },
    {
      "cell_type": "code",
      "execution_count": 19,
      "metadata": {
        "id": "gKKpukOLSiBD"
      },
      "outputs": [],
      "source": [
        "def calculate_weights(y):\n",
        "    # Calculate the weights inversely proportional to class frequencies\n",
        "    class_weights = y.value_counts(normalize=True)\n",
        "    print(f\"Class weights: {class_weights}\")\n",
        "    weights = 1.0 / class_weights\n",
        "    print(f\"Weights: {weights}\")\n",
        "    normalized_weights = len(y) * weights / weights.sum()\n",
        "    print(f\"Normalized weights: {normalized_weights}\")\n",
        "    return normalized_weights"
      ]
    },
    {
      "cell_type": "code",
      "execution_count": 20,
      "metadata": {
        "colab": {
          "base_uri": "https://localhost:8080/"
        },
        "id": "AqLQmxOZSpiL",
        "outputId": "6f7c77e5-e1b0-474b-c207-227ac237ef23"
      },
      "outputs": [
        {
          "name": "stdout",
          "output_type": "stream",
          "text": [
            "Class weights: Gender\n",
            "1    0.602752\n",
            "0    0.397248\n",
            "Name: proportion, dtype: float64\n",
            "Weights: Gender\n",
            "1    1.659056\n",
            "0    2.517321\n",
            "Name: proportion, dtype: float64\n",
            "Normalized weights: Gender\n",
            "1    4330.0\n",
            "0    6570.0\n",
            "Name: proportion, dtype: float64\n",
            "(10900,)\n"
          ]
        }
      ],
      "source": [
        "gender_weights = calculate_weights(genders_train)\n",
        "sample_weights = genders_train.map(gender_weights)\n",
        "print(sample_weights.shape)"
      ]
    },
    {
      "cell_type": "markdown",
      "metadata": {
        "id": "KOsYQMgHSsCO"
      },
      "source": [
        "Weights are re-calculated for the gender to mitigate the bias. Weights calculation is based on the inverse proportion to the class frequencies. This weights for the gender are used to train and evaluate the model."
      ]
    },
    {
      "cell_type": "code",
      "execution_count": 21,
      "metadata": {
        "id": "gjtkNIIZSs2H"
      },
      "outputs": [],
      "source": [
        "rf = RandomForestClassifier(max_depth=None, max_features= 'sqrt', min_samples_split= 5,\n",
        "                                    n_estimators=300, random_state=42)"
      ]
    },
    {
      "cell_type": "code",
      "execution_count": 22,
      "metadata": {
        "id": "cv_2OFCfSv4Q"
      },
      "outputs": [],
      "source": [
        "rf.fit(X_train, y_train, sample_weight=sample_weights)\n",
        "\n",
        "y_pred_test = rf.predict(X_test)"
      ]
    },
    {
      "cell_type": "code",
      "execution_count": 23,
      "metadata": {
        "id": "nu_fhYDZSxbW"
      },
      "outputs": [],
      "source": [
        "participant_final_preds_test = aggregate_predictions(y_pred_test)\n",
        "y_true_test = y_test.groupby(participant_ids_test).mean().round().astype(int)\n",
        "y_pred_final_test = pd.Series(participant_final_preds_test)"
      ]
    },
    {
      "cell_type": "code",
      "execution_count": 24,
      "metadata": {
        "id": "-gTKs0P3SzWk"
      },
      "outputs": [],
      "source": [
        "#Calculate accuracy and balanced accuracy\n",
        "accuracy_test = accuracy_score(y_true_test, y_pred_final_test)\n",
        "balanced_accuracy_test = balanced_accuracy_score(y_true_test, y_pred_final_test)\n",
        "\n",
        "mask_and_tpr = calculate_tpr(y_true_test, y_pred_final_test)\n",
        "male_mask_test, female_mask_test, tpr_male_test, tpr_female_test = mask_and_tpr[0], mask_and_tpr[1], mask_and_tpr[2], mask_and_tpr[3]\n",
        "eo_test = 1 - abs(tpr_male_test - tpr_female_test)"
      ]
    },
    {
      "cell_type": "code",
      "execution_count": 25,
      "metadata": {
        "colab": {
          "base_uri": "https://localhost:8080/"
        },
        "id": "x2WF8e5rS2Az",
        "outputId": "b29413a2-eb35-4f20-933a-e94d251efc5e"
      },
      "outputs": [
        {
          "name": "stdout",
          "output_type": "stream",
          "text": [
            "Test Accuracy: 0.65\n",
            "Test Balanced Accuracy: 0.464\n",
            "Test Equality of Opportunity (EO): 0.542\n",
            "Male Accuracy: 0.833\n",
            "Female Accuracy: 0.375\n",
            "Male Balanced Accuracy: 0.455\n",
            "Female Balanced Accuracy: 0.5\n"
          ]
        }
      ],
      "source": [
        "#Print the evaluation metrics for the test set\n",
        "print(\"Test Accuracy:\", accuracy_test)\n",
        "print(\"Test Balanced Accuracy:\", round(balanced_accuracy_test,3))\n",
        "print(\"Test Equality of Opportunity (EO):\", round(eo_test,3))\n",
        "\n",
        "#Print the evaluation metrics for male and female participants separately\n",
        "print(\"Male Accuracy:\", round(tpr_male_test,3))\n",
        "print(\"Female Accuracy:\", round(tpr_female_test,3))\n",
        "print(\"Male Balanced Accuracy:\", round(balanced_accuracy_score(y_true_test[male_mask_test], y_pred_final_test[male_mask_test]),3))\n",
        "print(\"Female Balanced Accuracy:\", balanced_accuracy_score(y_true_test[female_mask_test], y_pred_final_test[female_mask_test]))"
      ]
    },
    {
      "cell_type": "code",
      "execution_count": 26,
      "metadata": {
        "colab": {
          "base_uri": "https://localhost:8080/"
        },
        "id": "NO1jc3mqS36Q",
        "outputId": "eb68d684-b1e3-4709-9a9c-f67892474251"
      },
      "outputs": [
        {
          "data": {
            "text/plain": [
              "Gender\n",
              "1    6570\n",
              "0    4330\n",
              "Name: count, dtype: int64"
            ]
          },
          "execution_count": 26,
          "metadata": {},
          "output_type": "execute_result"
        }
      ],
      "source": [
        "genders_train.value_counts()"
      ]
    },
    {
      "cell_type": "markdown",
      "metadata": {
        "id": "4C6IYm9yS5w6"
      },
      "source": [
        "The accuracies of the model look similar before and after the re-calculation of the weights. This could be due to the minimal impact of sample re-weighting if the dataset is not significantly biased towards one gender. Based on the dataset, most of them are male. But there is no significance difference between the number of male and female data. Since random forest is robust, it is not sensitive to the changes in the sample weighting."
      ]
    }
  ],
  "metadata": {
    "colab": {
      "provenance": []
    },
    "kernelspec": {
      "display_name": "ml-project-python-env",
      "language": "python",
      "name": "python3"
    },
    "language_info": {
      "codemirror_mode": {
        "name": "ipython",
        "version": 3
      },
      "file_extension": ".py",
      "mimetype": "text/x-python",
      "name": "python",
      "nbconvert_exporter": "python",
      "pygments_lexer": "ipython3",
      "version": "3.11.8"
    }
  },
  "nbformat": 4,
  "nbformat_minor": 0
}
